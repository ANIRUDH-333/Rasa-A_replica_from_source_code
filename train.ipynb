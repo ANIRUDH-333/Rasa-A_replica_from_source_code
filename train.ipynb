{
 "cells": [
  {
   "cell_type": "code",
   "execution_count": 13,
   "metadata": {},
   "outputs": [],
   "source": [
    "from rasa.model_training import train\n",
    "\n"
   ]
  },
  {
   "cell_type": "markdown",
   "metadata": {},
   "source": [
    "Add the required paths here"
   ]
  },
  {
   "cell_type": "code",
   "execution_count": 22,
   "metadata": {},
   "outputs": [],
   "source": [
    "domain_path = \"A:\\Internship\\Gurukul Bytes\\project\\domain.yml\"\n",
    "config_path = \"A:\\Internship\\Gurukul Bytes\\project\\config.yml\"\n",
    "#training_data = \"A:\\Internship\\Gurukul Bytes\\training_data\\train.yml\"\n",
    "training_data = \"A:\\Internship\\Gurukul Bytes\\project\\data\"\n",
    "output_path = \"A:\\Internship\\Gurukul Bytes\"\n"
   ]
  },
  {
   "cell_type": "code",
   "execution_count": 23,
   "metadata": {},
   "outputs": [
    {
     "name": "stderr",
     "output_type": "stream",
     "text": [
      "\u001b[93ma:\\Internship\\Gurukul Bytes\\rasa\\rasa\\shared\\utils\\io.py:98: UserWarning: Training data file A:\\Internship\\Gurukul Bytes\\project\\domain.yml has a lower format version than your Rasa Open Source installation: 3.0 < 3.1. Rasa Open Source will read the file as a version 3.1 file. Please update your version key to 3.1. See https://rasa.com/docs/rasa/training-data-format.\n",
      "\u001b[0m\u001b[93ma:\\Internship\\Gurukul Bytes\\rasa\\rasa\\shared\\core\\slot_mappings.py:221: UserWarning: Slot auto-fill has been removed in 3.0 and replaced with a new explicit mechanism to set slots. Please refer to https://rasa.com/docs/rasa/domain#slots to learn more.\n",
      "  rasa.shared.utils.io.raise_warning(\n",
      "\u001b[0m\u001b[93ma:\\Internship\\Gurukul Bytes\\rasa\\rasa\\engine\\recipes\\recipe.py:35: FutureWarning: From Rasa Open Source 4.0.0 onwards it will be required to specify a recipe in your model configuration. Defaulting to recipe 'default.v1'.\n",
      "  rasa.shared.utils.io.raise_deprecation_warning(\n",
      "\u001b[0ma:\\Internship\\Gurukul Bytes\\rasa\\rasa\\utils\\tensorflow\\model_data.py:779: VisibleDeprecationWarning: Creating an ndarray from ragged nested sequences (which is a list-or-tuple of lists-or-tuples-or ndarrays with different lengths or shapes) is deprecated. If you meant to do this, you must specify 'dtype=object' when creating the ndarray\n",
      "  np.array(f)\n",
      "Epochs: 100%|██████████| 100/100 [00:14<00:00,  6.79it/s, t_loss=0.773, i_acc=1] \n",
      "Processed story blocks: 100%|██████████| 1/1 [00:00<?, ?it/s, # trackers=1]\n",
      "Processed story blocks: 100%|██████████| 1/1 [00:00<00:00, 1001.51it/s, # trackers=1]\n",
      "Processed story blocks: 100%|██████████| 1/1 [00:00<00:00, 501.59it/s, # trackers=2]\n",
      "Processed story blocks: 100%|██████████| 1/1 [00:00<00:00, 501.35it/s, # trackers=3]\n",
      "Processed rules: 100%|██████████| 2/2 [00:00<00:00, 1002.82it/s, # trackers=1]\n",
      "Processed trackers: 100%|██████████| 1/1 [00:00<00:00, 501.23it/s, # action=5]\n",
      "Processed actions: 5it [00:00, 1253.23it/s, # examples=5]\n",
      "Processed trackers: 100%|██████████| 2/2 [00:00<00:00, 501.29it/s, # action=6]\n",
      "Processed actions: 6it [00:00, 2004.61it/s, # examples=4]\n",
      "Processed trackers: 100%|██████████| 1/1 [00:00<00:00, 334.13it/s, # action=5]\n",
      "Processed trackers: 100%|██████████| 2/2 [00:00<00:00, 668.47it/s]\n",
      "Processed trackers: 100%|██████████| 3/3 [00:00<00:00, 1501.36it/s]\n",
      "Processed trackers: 100%|██████████| 4/4 [00:00<00:00, 363.44it/s, # action=12]\n",
      "a:\\Internship\\Gurukul Bytes\\rasa\\rasa\\utils\\tensorflow\\model_data_utils.py:388: VisibleDeprecationWarning: Creating an ndarray from ragged nested sequences (which is a list-or-tuple of lists-or-tuples-or ndarrays with different lengths or shapes) is deprecated. If you meant to do this, you must specify 'dtype=object' when creating the ndarray\n",
      "  np.array(values), number_of_dimensions=4\n",
      "a:\\Internship\\Gurukul Bytes\\rasa\\rasa\\utils\\tensorflow\\model_data_utils.py:404: VisibleDeprecationWarning: Creating an ndarray from ragged nested sequences (which is a list-or-tuple of lists-or-tuples-or ndarrays with different lengths or shapes) is deprecated. If you meant to do this, you must specify 'dtype=object' when creating the ndarray\n",
      "  MASK: [FeatureArray(np.array(attribute_masks), number_of_dimensions=3)]\n",
      "Epochs:   0%|          | 0/100 [00:00<?, ?it/s]c:\\Users\\anied\\AppData\\Local\\Programs\\Python\\Python39\\lib\\site-packages\\tensorflow\\python\\framework\\indexed_slices.py:448: UserWarning: Converting sparse IndexedSlices(IndexedSlices(indices=Tensor(\"gradients/cond_grad/Identity_1:0\", shape=(None,), dtype=int64), values=Tensor(\"gradients/cond_grad/Identity:0\", shape=(None,), dtype=float32), dense_shape=Tensor(\"gradients/cond_grad/Identity_2:0\", shape=(1,), dtype=int32))) to a dense Tensor of unknown shape. This may consume a large amount of memory.\n",
      "  warnings.warn(\n",
      "c:\\Users\\anied\\AppData\\Local\\Programs\\Python\\Python39\\lib\\site-packages\\tensorflow\\python\\framework\\indexed_slices.py:448: UserWarning: Converting sparse IndexedSlices(IndexedSlices(indices=Tensor(\"gradients/cond_1_grad/Identity_1:0\", shape=(None,), dtype=int64), values=Tensor(\"gradients/cond_1_grad/Identity:0\", shape=(None,), dtype=float32), dense_shape=Tensor(\"gradients/cond_1_grad/Identity_2:0\", shape=(1,), dtype=int32))) to a dense Tensor of unknown shape. This may consume a large amount of memory.\n",
      "  warnings.warn(\n",
      "c:\\Users\\anied\\AppData\\Local\\Programs\\Python\\Python39\\lib\\site-packages\\tensorflow\\python\\framework\\indexed_slices.py:448: UserWarning: Converting sparse IndexedSlices(IndexedSlices(indices=Tensor(\"gradients/cond_2_grad/Identity_1:0\", shape=(None,), dtype=int64), values=Tensor(\"gradients/cond_2_grad/Identity:0\", shape=(None,), dtype=float32), dense_shape=Tensor(\"gradients/cond_2_grad/Identity_2:0\", shape=(1,), dtype=int32))) to a dense Tensor of unknown shape. This may consume a large amount of memory.\n",
      "  warnings.warn(\n",
      "Epochs: 100%|██████████| 100/100 [00:13<00:00,  7.60it/s, t_loss=0.201, loss=0.048, acc=1]  \n",
      "Processed trackers: 100%|██████████| 4/4 [00:00<00:00, 806.13it/s, # intent=6]\n",
      "Epochs: 100%|██████████| 100/100 [00:12<00:00,  8.16it/s, t_loss=0.112, loss=0.00168, acc=1]  \n"
     ]
    },
    {
     "name": "stdout",
     "output_type": "stream",
     "text": [
      "Your Rasa model is trained and saved at 'A:\\Internship\\Gurukul Bytes\\20221017-043519-atomic-sheave.tar.gz'.\n",
      "done\n"
     ]
    }
   ],
   "source": [
    "train(domain_path , config_path , training_data , output_path)\n",
    "print(\"done\")"
   ]
  },
  {
   "cell_type": "code",
   "execution_count": 12,
   "metadata": {},
   "outputs": [
    {
     "data": {
      "text/plain": [
       "True"
      ]
     },
     "execution_count": 12,
     "metadata": {},
     "output_type": "execute_result"
    }
   ],
   "source": []
  }
 ],
 "metadata": {
  "kernelspec": {
   "display_name": "Python 3.9.7 64-bit",
   "language": "python",
   "name": "python3"
  },
  "language_info": {
   "codemirror_mode": {
    "name": "ipython",
    "version": 3
   },
   "file_extension": ".py",
   "mimetype": "text/x-python",
   "name": "python",
   "nbconvert_exporter": "python",
   "pygments_lexer": "ipython3",
   "version": "3.9.7"
  },
  "orig_nbformat": 4,
  "vscode": {
   "interpreter": {
    "hash": "ca7d875bd37ab344f22ea06c0bd9dc47618d9fb2b9afc736e62ef1aee7dda84e"
   }
  }
 },
 "nbformat": 4,
 "nbformat_minor": 2
}
